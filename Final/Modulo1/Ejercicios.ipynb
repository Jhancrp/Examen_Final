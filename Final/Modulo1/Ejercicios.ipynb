{
 "metadata": {
  "language_info": {
   "codemirror_mode": {
    "name": "ipython",
    "version": 3
   },
   "file_extension": ".py",
   "mimetype": "text/x-python",
   "name": "python",
   "nbconvert_exporter": "python",
   "pygments_lexer": "ipython3",
   "version": "3.9.1"
  },
  "orig_nbformat": 2,
  "kernelspec": {
   "name": "python3",
   "display_name": "Python 3.9.1 64-bit",
   "metadata": {
    "interpreter": {
     "hash": "5e1d13c72b12340561fc30cee50d4a354ac1278b698a486793bf8f1246fd944b"
    }
   }
  }
 },
 "nbformat": 4,
 "nbformat_minor": 2,
 "cells": [
  {
   "cell_type": "code",
   "execution_count": 1,
   "metadata": {},
   "outputs": [
    {
     "output_type": "stream",
     "name": "stdout",
     "text": [
      "Hello, jhan\n"
     ]
    }
   ],
   "source": [
    "#EJERCICIO 1\n",
    "nombre = input(\"ingrese su nombre: \")\n",
    "print(f\"Hello, {nombre}\")"
   ]
  },
  {
   "cell_type": "code",
   "execution_count": 1,
   "metadata": {},
   "outputs": [
    {
     "output_type": "stream",
     "name": "stdout",
     "text": [
      "Texto: JHAN CARLOS\nTexto Encriptado: WUNA PNEYBF\n"
     ]
    }
   ],
   "source": [
    "#EJERCICIO 2\n",
    "shift = 13\n",
    "text = input(\"ingrese texto: \")\n",
    "text = text.upper()\n",
    "encryption = \"\"\n",
    "\n",
    "for c in text:\n",
    "\n",
    "    if c.isupper():\n",
    "\n",
    "        c_unicode = ord(c)\n",
    "\n",
    "        c_index = ord(c) - ord(\"A\")\n",
    "        new_index = (c_index + shift) % 26\n",
    "        new_unicode = new_index + ord(\"A\")\n",
    "\n",
    "        new_character = chr(new_unicode)\n",
    "        encryption = encryption + new_character\n",
    "\n",
    "    else:\n",
    "        encryption += c\n",
    "        \n",
    "print(\"Texto:\",text)\n",
    "\n",
    "print(\"Texto Encriptado:\",encryption)"
   ]
  },
  {
   "cell_type": "code",
   "execution_count": null,
   "metadata": {},
   "outputs": [],
   "source": []
  }
 ]
}