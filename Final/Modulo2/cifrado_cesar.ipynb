{
 "metadata": {
  "language_info": {
   "codemirror_mode": {
    "name": "ipython",
    "version": 3
   },
   "file_extension": ".py",
   "mimetype": "text/x-python",
   "name": "python",
   "nbconvert_exporter": "python",
   "pygments_lexer": "ipython3",
   "version": "3.9.1"
  },
  "orig_nbformat": 2,
  "kernelspec": {
   "name": "python3",
   "display_name": "Python 3.9.1 64-bit",
   "metadata": {
    "interpreter": {
     "hash": "5e1d13c72b12340561fc30cee50d4a354ac1278b698a486793bf8f1246fd944b"
    }
   }
  }
 },
 "nbformat": 4,
 "nbformat_minor": 2,
 "cells": [
  {
   "cell_type": "code",
   "execution_count": 1,
   "metadata": {},
   "outputs": [
    {
     "output_type": "stream",
     "name": "stdout",
     "text": [
      "            # \n          # # \n        # # # \n      # # # # \n    # # # # # \n  # # # # # # \n# # # # # # # \n"
     ]
    }
   ],
   "source": [
    "#Ejercicio 1\n",
    "n = int(input(\"Ingrese un numero: \"))\n",
    "for i in range(1, n+1):\n",
    "    print(\"  \"*(n-i) + \"# \"*(i))"
   ]
  },
  {
   "cell_type": "code",
   "execution_count": 1,
   "metadata": {},
   "outputs": [
    {
     "output_type": "stream",
     "name": "stdout",
     "text": [
      "texto: ABCD\nTexto encriptado: DEFG\n"
     ]
    }
   ],
   "source": [
    "#Ejercicio 2\n",
    "mover = int(input(\"Ingrese cuantas posiciones se debe mover: \"))\n",
    "text = input(\"ingrese texto : \")\n",
    "text = text.upper()\n",
    "encryption = \"\"\n",
    "\n",
    "for c in text:\n",
    "\n",
    "    if c.isupper():\n",
    "\n",
    "        c_unicode = ord(c)\n",
    "\n",
    "        c_index = ord(c) - ord(\"A\")\n",
    "        new_index = (c_index + mover) % 26\n",
    "        new_unicode = new_index + ord(\"A\")\n",
    "\n",
    "        new_character = chr(new_unicode)\n",
    "        encryption = encryption + new_character\n",
    "\n",
    "    else:\n",
    "        encryption += c\n",
    "        \n",
    "print(\"texto:\",text)\n",
    "\n",
    "print(\"Texto encriptado:\",encryption)"
   ]
  },
  {
   "cell_type": "code",
   "execution_count": null,
   "metadata": {},
   "outputs": [],
   "source": []
  }
 ]
}