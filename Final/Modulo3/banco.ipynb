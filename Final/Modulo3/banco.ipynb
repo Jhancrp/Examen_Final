{
 "metadata": {
  "language_info": {
   "codemirror_mode": {
    "name": "ipython",
    "version": 3
   },
   "file_extension": ".py",
   "mimetype": "text/x-python",
   "name": "python",
   "nbconvert_exporter": "python",
   "pygments_lexer": "ipython3",
   "version": "3.9.1"
  },
  "orig_nbformat": 2,
  "kernelspec": {
   "name": "python3",
   "display_name": "Python 3.9.1 64-bit",
   "metadata": {
    "interpreter": {
     "hash": "5e1d13c72b12340561fc30cee50d4a354ac1278b698a486793bf8f1246fd944b"
    }
   }
  }
 },
 "nbformat": 4,
 "nbformat_minor": 2,
 "cells": [
  {
   "cell_type": "code",
   "execution_count": 1,
   "metadata": {},
   "outputs": [
    {
     "output_type": "stream",
     "name": "stdout",
     "text": [
      "numero = 49927398716\nVisa\n"
     ]
    }
   ],
   "source": [
    "#Ejercicio 01\n",
    "mastercard= [51, 52, 53, 54 , 55]\n",
    "american_expres = [34,37]\n",
    "visa = [4]\n",
    "def luhn(ccn):\n",
    "    c = [int(x) for x in ccn[::-2]]\n",
    "    u2 = [(2*int(y))//10+(2*int(y))%10 for y in ccn[-2::-2]]\n",
    "    print(f\"numero = {ccn}\")\n",
    "    return sum(c+u2)%10 == 0\n",
    "    \n",
    "prueba = 49927398716  #con este numero funciona\n",
    "prueba2=549273989816  #no valida la funcion por eso arroja not found apesar de que inicia con 54\n",
    "numero = input(\"Ingrese numero: \")\n",
    "#Test\n",
    "if luhn(numero) == True : \n",
    "    dig = numero[0] + numero[1]\n",
    "    dig = int(dig)\n",
    "\n",
    "    if (dig == 34 or dig == 37):\n",
    "        print(\"American express\")\n",
    "    elif (dig == 51 or dig== 52 or dig == 53 or dig==54 or dig == 55):\n",
    "        print(\"Mastercard\")\n",
    "    elif int(numero[0]) == 4 :\n",
    "        print(\"Visa\")\n",
    "else:\n",
    "    print(\"Not found\")"
   ]
  },
  {
   "cell_type": "code",
   "execution_count": null,
   "metadata": {},
   "outputs": [],
   "source": []
  }
 ]
}